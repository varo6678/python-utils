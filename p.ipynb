{
 "cells": [
  {
   "cell_type": "code",
   "execution_count": 6,
   "metadata": {},
   "outputs": [
    {
     "name": "stdout",
     "output_type": "stream",
     "text": [
      "Processing time: 500.09 ms\n"
     ]
    }
   ],
   "source": [
    "import time\n",
    "import contextlib\n",
    "\n",
    "class Timing(contextlib.ContextDecorator):\n",
    "    def __init__(self, prefix=\"\", on_exit=None, enabled=True):\n",
    "        self.prefix = prefix\n",
    "        self.on_exit = on_exit\n",
    "        self.enabled = enabled\n",
    "    \n",
    "    def __enter__(self):\n",
    "        self.st = time.perf_counter_ns()\n",
    "    \n",
    "    def __exit__(self, *exc):\n",
    "        self.et = time.monotonic() - self.st\n",
    "        if self.enabled:\n",
    "            print(f\"{self.prefix}{self.et*1e-6:6.2f} ms\")\n",
    "\n",
    "# Usando `Timing` para medir tiempo de ejecución\n",
    "with Timing(\"Processing time: \"):\n",
    "    time.sleep(0.5)  # Simulación de un proceso que toma tiempo\n"
   ]
  },
  {
   "cell_type": "code",
   "execution_count": null,
   "metadata": {},
   "outputs": [],
   "source": []
  }
 ],
 "metadata": {
  "kernelspec": {
   "display_name": "e3",
   "language": "python",
   "name": "python3"
  },
  "language_info": {
   "codemirror_mode": {
    "name": "ipython",
    "version": 3
   },
   "file_extension": ".py",
   "mimetype": "text/x-python",
   "name": "python",
   "nbconvert_exporter": "python",
   "pygments_lexer": "ipython3",
   "version": "3.12.4"
  }
 },
 "nbformat": 4,
 "nbformat_minor": 2
}
